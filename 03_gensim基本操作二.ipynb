{
 "cells": [
  {
   "cell_type": "code",
   "execution_count": 1,
   "metadata": {
    "collapsed": false
   },
   "outputs": [],
   "source": [
    "from gensim.test.utils import common_texts\n",
    "from gensim.models import TfidfModel, LdaModel, LsiModel\n",
    "from gensim.corpora import Dictionary"
   ]
  },
  {
   "cell_type": "code",
   "execution_count": 10,
   "metadata": {
    "collapsed": true
   },
   "outputs": [],
   "source": [
    "# 稀疏的向量转换为正常向量\n",
    "def sparse_2_norm_vector(vector, ndim):\n",
    "    result = [0.0] * ndim\n",
    "    for idx, value in vector:\n",
    "        result[idx] = value\n",
    "    return result"
   ]
  },
  {
   "cell_type": "markdown",
   "metadata": {},
   "source": [
    "# 一、数据加载"
   ]
  },
  {
   "cell_type": "code",
   "execution_count": 2,
   "metadata": {
    "collapsed": false
   },
   "outputs": [
    {
     "name": "stdout",
     "output_type": "stream",
     "text": [
      "原始数据:\n",
      "[['human', 'interface', 'computer'], ['survey', 'user', 'computer', 'system', 'response', 'time'], ['eps', 'user', 'interface', 'system'], ['system', 'human', 'system', 'eps'], ['user', 'response', 'time'], ['trees'], ['graph', 'trees'], ['graph', 'minors', 'trees'], ['graph', 'minors', 'survey']]\n",
      "\n",
      "词袋法后的值:\n",
      "[[(0, 1), (1, 1), (2, 1)], [(0, 1), (3, 1), (4, 1), (5, 1), (6, 1), (7, 1)], [(2, 1), (5, 1), (7, 1), (8, 1)], [(1, 1), (5, 2), (8, 1)], [(3, 1), (6, 1), (7, 1)], [(9, 1)], [(9, 1), (10, 1)], [(9, 1), (10, 1), (11, 1)], [(4, 1), (10, 1), (11, 1)]]\n"
     ]
    }
   ],
   "source": [
    "# 构建字典\n",
    "common_dictionary = Dictionary(common_texts)\n",
    "# 各个文本对应的词袋法的值\n",
    "common_corpus = [common_dictionary.doc2bow(text) for text in common_texts]\n",
    "print(\"原始数据:\\n{}\".format(common_texts))\n",
    "print(\"\\n词袋法后的值:\\n{}\".format(common_corpus))"
   ]
  },
  {
   "cell_type": "code",
   "execution_count": 3,
   "metadata": {
    "collapsed": false
   },
   "outputs": [
    {
     "name": "stdout",
     "output_type": "stream",
     "text": [
      "测试数据对应的词袋法的值:\n",
      "[[(0, 1), (6, 1), (10, 1)], [(3, 1), (4, 1), (8, 1)], [(0, 1), (1, 1), (5, 1)]]\n"
     ]
    }
   ],
   "source": [
    "other_texts = [\n",
    "    ['computer', 'time', 'graph'],\n",
    "    ['survey', 'response', 'eps'],\n",
    "    ['human', 'system', 'computer']\n",
    "]\n",
    "other_corpus = [common_dictionary.doc2bow(text) for text in other_texts]\n",
    "print(\"测试数据对应的词袋法的值:\\n{}\".format(other_corpus))"
   ]
  },
  {
   "cell_type": "markdown",
   "metadata": {},
   "source": [
    "# 二、TF-IDF Model"
   ]
  },
  {
   "cell_type": "code",
   "execution_count": 4,
   "metadata": {
    "collapsed": false
   },
   "outputs": [],
   "source": [
    "# 模型构建\n",
    "model = TfidfModel(corpus=common_corpus)"
   ]
  },
  {
   "cell_type": "code",
   "execution_count": 11,
   "metadata": {
    "collapsed": false
   },
   "outputs": [
    {
     "name": "stdout",
     "output_type": "stream",
     "text": [
      "稀疏表达形式:\n",
      "[(0, 0.6282580468670046), (6, 0.6282580468670046), (10, 0.45889394536615247)]\n",
      "[(3, 0.5773502691896257), (4, 0.5773502691896257), (8, 0.5773502691896257)]\n",
      "[(0, 0.6282580468670046), (1, 0.6282580468670046), (5, 0.45889394536615247)]\n",
      "\n",
      "正常向量表达形式:\n",
      "[0.6282580468670046, 0.0, 0.0, 0.0, 0.0, 0.0, 0.6282580468670046, 0.0, 0.0, 0.0, 0.45889394536615247, 0.0]\n",
      "[0.0, 0.0, 0.0, 0.5773502691896257, 0.5773502691896257, 0.0, 0.0, 0.0, 0.5773502691896257, 0.0, 0.0, 0.0]\n",
      "[0.6282580468670046, 0.6282580468670046, 0.0, 0.0, 0.0, 0.45889394536615247, 0.0, 0.0, 0.0, 0.0, 0.0, 0.0]\n"
     ]
    }
   ],
   "source": [
    "# 预测\n",
    "vectors = model[other_corpus]\n",
    "print(\"稀疏表达形式:\")\n",
    "for vector in vectors:\n",
    "    print(vector)\n",
    "\n",
    "print(\"\\n正常向量表达形式:\")\n",
    "for vector in vectors:\n",
    "    print(sparse_2_norm_vector(vector, ndim=len(common_dictionary.token2id)))"
   ]
  },
  {
   "cell_type": "markdown",
   "metadata": {},
   "source": [
    "# 三、LDA Model"
   ]
  },
  {
   "cell_type": "code",
   "execution_count": 12,
   "metadata": {
    "collapsed": true
   },
   "outputs": [],
   "source": [
    "# 模型构建\n",
    "model = LdaModel(common_corpus, num_topics=10, random_state=0)"
   ]
  },
  {
   "cell_type": "code",
   "execution_count": 13,
   "metadata": {
    "collapsed": true
   },
   "outputs": [],
   "source": [
    "# 模型保存\n",
    "model.save('./datas/lda_model.pkl')"
   ]
  },
  {
   "cell_type": "code",
   "execution_count": 14,
   "metadata": {
    "collapsed": true
   },
   "outputs": [],
   "source": [
    "# 模型加载\n",
    "lda = LdaModel.load('./datas/lda_model.pkl')"
   ]
  },
  {
   "cell_type": "code",
   "execution_count": 18,
   "metadata": {
    "collapsed": false
   },
   "outputs": [
    {
     "name": "stdout",
     "output_type": "stream",
     "text": [
      "稀疏表达形式:\n",
      "[(0, 0.41142505), (1, 0.025000041), (2, 0.38856864), (3, 0.025000043), (4, 0.025000047), (5, 0.025000047), (6, 0.025006022), (7, 0.025000047), (8, 0.025000047), (9, 0.025000041)]\n",
      "[(0, 0.025000062), (1, 0.025011465), (2, 0.5249875), (3, 0.025000066), (4, 0.02500007), (5, 0.02500007), (6, 0.025012966), (7, 0.02500007), (8, 0.02500007), (9, 0.27498767)]\n",
      "[(0, 0.34045696), (1, 0.4595319), (2, 0.025008548), (3, 0.025000054), (4, 0.025000058), (5, 0.025000058), (6, 0.025000054), (7, 0.025000058), (8, 0.025000058), (9, 0.025002237)]\n",
      "\n",
      "正常向量表达形式:\n",
      "[0.41107586, 0.025000043, 0.3889178, 0.025000045, 0.025000049, 0.025000049, 0.02500604, 0.025000049, 0.025000049, 0.025000043]\n",
      "[0.025000062, 0.025012575, 0.52498734, 0.025000066, 0.02500007, 0.02500007, 0.025013164, 0.02500007, 0.02500007, 0.27498654]\n",
      "[0.34064132, 0.45934758, 0.025008533, 0.025000056, 0.02500006, 0.02500006, 0.025000056, 0.02500006, 0.02500006, 0.025002243]\n"
     ]
    }
   ],
   "source": [
    "# 模型结果获取\n",
    "vectors = lda[other_corpus]\n",
    "print(\"稀疏表达形式:\")\n",
    "for vector in vectors:\n",
    "    print(vector)\n",
    "\n",
    "print(\"\\n正常向量表达形式:\")\n",
    "ndim = model.num_topics\n",
    "for vector in vectors:\n",
    "    print(sparse_2_norm_vector(vector, ndim=ndim))"
   ]
  },
  {
   "cell_type": "code",
   "execution_count": 19,
   "metadata": {
    "collapsed": false
   },
   "outputs": [],
   "source": [
    "# 更新模型（在当前模型基础上继续更新模型参数<不能增加单词数目，也就是字典不能变>）\n",
    "lda.update(other_corpus)"
   ]
  },
  {
   "cell_type": "code",
   "execution_count": 20,
   "metadata": {
    "collapsed": false
   },
   "outputs": [
    {
     "name": "stdout",
     "output_type": "stream",
     "text": [
      "[(0, 0.4935978), (1, 0.025000028), (2, 0.3064001), (3, 0.02500003), (4, 0.025000032), (5, 0.025000032), (6, 0.025001919), (7, 0.025000032), (8, 0.025000032), (9, 0.025000028)]\n",
      "[(0, 0.025000026), (1, 0.025000902), (2, 0.524994), (3, 0.025000028), (4, 0.02500003), (5, 0.02500003), (6, 0.025002683), (7, 0.02500003), (8, 0.02500003), (9, 0.27500224)]\n",
      "[(0, 0.30352688), (1, 0.49646953), (2, 0.025002938), (3, 0.02500002), (4, 0.02500002), (5, 0.02500002), (6, 0.025000019), (7, 0.02500002), (8, 0.02500002), (9, 0.025000548)]\n"
     ]
    }
   ],
   "source": [
    "# 更新后模型结果获取\n",
    "vectors = lda[other_corpus]\n",
    "for vector in vectors:\n",
    "    print(vector)"
   ]
  },
  {
   "cell_type": "markdown",
   "metadata": {},
   "source": [
    "# 四、Other"
   ]
  },
  {
   "cell_type": "markdown",
   "metadata": {},
   "source": [
    "官网文档：https://radimrehurek.com/gensim/apiref.html"
   ]
  },
  {
   "cell_type": "code",
   "execution_count": null,
   "metadata": {
    "collapsed": true
   },
   "outputs": [],
   "source": []
  }
 ],
 "metadata": {
  "kernelspec": {
   "display_name": "Python 3",
   "language": "python",
   "name": "python3"
  },
  "language_info": {
   "codemirror_mode": {
    "name": "ipython",
    "version": 3
   },
   "file_extension": ".py",
   "mimetype": "text/x-python",
   "name": "python",
   "nbconvert_exporter": "python",
   "pygments_lexer": "ipython3",
   "version": "3.6.2"
  }
 },
 "nbformat": 4,
 "nbformat_minor": 2
}
