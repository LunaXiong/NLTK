{
 "cells": [
  {
   "cell_type": "markdown",
   "metadata": {},
   "source": [
    "# 实现思路：\n",
    "将单个中文文字看成一个词，然后使用Word2Vec的API来训练，结果实际上是Char2Vec的向量转换"
   ]
  },
  {
   "cell_type": "code",
   "execution_count": 1,
   "metadata": {
    "collapsed": false
   },
   "outputs": [],
   "source": [
    "# import modules & set up logging\n",
    "import logging # 打印日志的模块，日志主要包括以下几个级别: DEBUG、INFO、WARN、ERROR\n",
    "import os\n",
    "\n",
    "import numpy as np\n",
    "\n",
    "import gensim\n",
    "from gensim.models import word2vec\n",
    "\n",
    "import jieba.analyse\n",
    "import jieba"
   ]
  },
  {
   "cell_type": "code",
   "execution_count": 2,
   "metadata": {
    "collapsed": true
   },
   "outputs": [],
   "source": [
    "# set up logging\n",
    "logging.basicConfig(format='%(asctime)s : %(levelname)s : %(message)s', level=logging.INFO)"
   ]
  },
  {
   "cell_type": "code",
   "execution_count": 3,
   "metadata": {
    "collapsed": true
   },
   "outputs": [],
   "source": [
    "sentence_file_path = './datas/in_the_name_of_people.txt'\n",
    "word_file_path = './datas/cut_char_words_of_in_the_name_of_people.txt'\n",
    "model_file_path1 = './datas/gensim_char_word2vec1.w2v'\n",
    "model_file_path2 = './datas/gensim_char_word2vec2.bin'\n",
    "model_file_path3 = './datas/gensim_char_word2vec3_{}.npy'"
   ]
  },
  {
   "cell_type": "markdown",
   "metadata": {},
   "source": [
    "## 一、分词"
   ]
  },
  {
   "cell_type": "code",
   "execution_count": 4,
   "metadata": {
    "collapsed": false
   },
   "outputs": [
    {
     "name": "stderr",
     "output_type": "stream",
     "text": [
      "Building prefix dict from the default dictionary ...\n",
      "2020-04-03 14:30:16,318 : DEBUG : Building prefix dict from the default dictionary ...\n",
      "Loading model from cache C:\\Users\\ADMINI~1\\AppData\\Local\\Temp\\jieba.cache\n",
      "2020-04-03 14:30:16,331 : DEBUG : Loading model from cache C:\\Users\\ADMINI~1\\AppData\\Local\\Temp\\jieba.cache\n",
      "Loading model cost 0.681 seconds.\n",
      "2020-04-03 14:30:17,006 : DEBUG : Loading model cost 0.681 seconds.\n",
      "Prefix dict has been built succesfully.\n",
      "2020-04-03 14:30:17,008 : DEBUG : Prefix dict has been built succesfully.\n"
     ]
    },
    {
     "name": "stdout",
     "output_type": "stream",
     "text": [
      "总单词数目(去重前):266166\n",
      "总单词数目(去重后):3272\n",
      "Done!!!\n"
     ]
    }
   ],
   "source": [
    "# 人民的名义 小说分词\n",
    "jieba.suggest_freq('沙瑞金',True)\n",
    "jieba.suggest_freq('田国富',True)\n",
    "jieba.suggest_freq('高育良',True)\n",
    "jieba.suggest_freq('侯亮平',True)\n",
    "jieba.suggest_freq('钟小艾', True)\n",
    "jieba.suggest_freq('陈岩石', True)\n",
    "jieba.suggest_freq('欧阳菁', True)\n",
    "jieba.suggest_freq('易学习', True)\n",
    "jieba.suggest_freq('王大路', True)\n",
    "jieba.suggest_freq('蔡成功', True)\n",
    "jieba.suggest_freq('孙连城', True)\n",
    "jieba.suggest_freq('季昌明', True)\n",
    "jieba.suggest_freq('丁义珍', True)\n",
    "jieba.suggest_freq('郑西坡', True)\n",
    "jieba.suggest_freq('赵东来', True)\n",
    "jieba.suggest_freq('高小琴', True)\n",
    "jieba.suggest_freq('赵瑞龙', True)\n",
    "jieba.suggest_freq('林华华', True)\n",
    "jieba.suggest_freq('陆亦可', True)\n",
    "jieba.suggest_freq('刘新建', True)\n",
    "jieba.suggest_freq('刘庆祝', True)\n",
    "jieba.suggest_freq('京州市', True)\n",
    "jieba.suggest_freq('副市长', True)\n",
    "jieba.suggest_freq('赵德汉',True)\n",
    "\n",
    "# 自定义词典\n",
    "jieba.add_word('人民的名义')\n",
    "\n",
    "with open(word_file_path,'w', encoding='utf-8') as writer:\n",
    "    with open(sentence_file_path, 'r', encoding='utf-8') as reader:\n",
    "        # 加载所有数据\n",
    "        content = reader.read()\n",
    "        \n",
    "        # 分词\n",
    "        content = list(content)\n",
    "        print(\"总单词数目(去重前):{}\".format(len(content)))\n",
    "        print(\"总单词数目(去重后):{}\".format(len(set(content))))\n",
    "        \n",
    "        # 合并结果\n",
    "        result = ' '.join(content)\n",
    "        \n",
    "        # 结果输出\n",
    "        writer.write(result)\n",
    "print(\"Done!!!\")"
   ]
  },
  {
   "cell_type": "markdown",
   "metadata": {},
   "source": [
    "## 二、Gensim Word2Vec构建"
   ]
  },
  {
   "cell_type": "code",
   "execution_count": 5,
   "metadata": {
    "collapsed": false
   },
   "outputs": [
    {
     "name": "stdout",
     "output_type": "stream",
     "text": [
      "==================================================\n",
      "['\\ufeff']\n",
      "==================================================\n",
      "['人', '民', '的', '名', '义']\n",
      "==================================================\n",
      "['周', '梅', '森']\n",
      "==================================================\n",
      "['©', '中', '文', '在', '线', '数', '字', '出', '版', '集', '团', '股', '份', '有', '限', '公', '司', '，', '2', '0', '1', '6', '-', '2', '0', '1', '7']\n",
      "==================================================\n",
      "['数', '字', '版', '图', '书', '版', '权', '信', '息']\n",
      "==================================================\n",
      "['人', '民', '的', '名', '义', '/', '周', '梅', '森', '著', '.', '北', '京', '：', '中', '文', '在', '线', '数', '字', '出', '版', '集', '团', '股', '份', '有', '限', '公', '司', '，', '2', '0', '1', '7', '.', '2', '.']\n",
      "==================================================\n",
      "['C', 'A', 'E', 'B', 'N', '：', '7', '-', '0', '0', '1', '-', '0', '0', '0', '-', '6', '0', '7', '3', '3', '6', '3', '8', '-', '6']\n",
      "==================================================\n",
      "['分', '类', '号', '：', '长', '篇', '小', '说', '—', '—', '中', '国', '—', '—', '当', '代', 'I', '2', '4', '7', '.', '5', '4']\n",
      "==================================================\n",
      "['互', '联', '网', '出', '版', '许', '可', '证', '：', '新', '出', '网', '证', '（', '京', '）', '字', '0', '4', '5', '号']\n",
      "==================================================\n",
      "['人', '民', '的', '名', '义']\n"
     ]
    }
   ],
   "source": [
    "# 按行数据加载\n",
    "sentences = word2vec.LineSentence(word_file_path) \n",
    "\n",
    "k = 0\n",
    "for sentence in sentences:\n",
    "    print(\"=\" * 50)\n",
    "    print(sentence)\n",
    "    k+=1\n",
    "    if k >= 10:\n",
    "        break"
   ]
  },
  {
   "cell_type": "markdown",
   "metadata": {},
   "source": [
    "#### 训练方式一"
   ]
  },
  {
   "cell_type": "code",
   "execution_count": 6,
   "metadata": {
    "collapsed": false,
    "scrolled": true
   },
   "outputs": [
    {
     "name": "stderr",
     "output_type": "stream",
     "text": [
      "2020-04-03 14:30:17,115 : INFO : collecting all words and their counts\n",
      "2020-04-03 14:30:17,116 : INFO : PROGRESS: at sentence #0, processed 0 words, keeping 0 word types\n",
      "2020-04-03 14:30:17,187 : INFO : collected 3269 word types from a corpus of 258973 raw words and 2311 sentences\n",
      "2020-04-03 14:30:17,188 : INFO : Loading a fresh vocabulary\n",
      "2020-04-03 14:30:17,197 : INFO : effective_min_count=2 retains 2802 unique words (85% of original 3269, drops 467)\n",
      "2020-04-03 14:30:17,199 : INFO : effective_min_count=2 leaves 258506 word corpus (99% of original 258973, drops 467)\n",
      "2020-04-03 14:30:17,207 : INFO : deleting the raw counts dictionary of 3269 items\n",
      "2020-04-03 14:30:17,209 : INFO : sample=0.001 downsamples 69 most-common words\n",
      "2020-04-03 14:30:17,210 : INFO : downsampling leaves estimated 203380 word corpus (78.7% of prior 258506)\n",
      "2020-04-03 14:30:17,219 : INFO : estimated required memory for 2802 words and 100 dimensions: 3642600 bytes\n",
      "2020-04-03 14:30:17,221 : INFO : resetting layer weights\n",
      "2020-04-03 14:30:17,254 : INFO : training model with 3 workers on 2802 vocabulary and 100 features, using sg=0 hs=0 sample=0.001 negative=5 window=10\n",
      "2020-04-03 14:30:17,434 : INFO : worker thread finished; awaiting finish of 2 more threads\n",
      "2020-04-03 14:30:17,437 : INFO : worker thread finished; awaiting finish of 1 more threads\n",
      "2020-04-03 14:30:17,444 : INFO : worker thread finished; awaiting finish of 0 more threads\n",
      "2020-04-03 14:30:17,446 : INFO : EPOCH - 1 : training on 258973 raw words (203377 effective words) took 0.2s, 1078890 effective words/s\n",
      "2020-04-03 14:30:17,616 : INFO : worker thread finished; awaiting finish of 2 more threads\n",
      "2020-04-03 14:30:17,621 : INFO : worker thread finished; awaiting finish of 1 more threads\n",
      "2020-04-03 14:30:17,625 : INFO : worker thread finished; awaiting finish of 0 more threads\n",
      "2020-04-03 14:30:17,626 : INFO : EPOCH - 2 : training on 258973 raw words (203137 effective words) took 0.2s, 1148844 effective words/s\n",
      "2020-04-03 14:30:17,814 : INFO : worker thread finished; awaiting finish of 2 more threads\n",
      "2020-04-03 14:30:17,818 : INFO : worker thread finished; awaiting finish of 1 more threads\n",
      "2020-04-03 14:30:17,822 : INFO : worker thread finished; awaiting finish of 0 more threads\n",
      "2020-04-03 14:30:17,824 : INFO : EPOCH - 3 : training on 258973 raw words (203238 effective words) took 0.2s, 1041923 effective words/s\n",
      "2020-04-03 14:30:18,001 : INFO : worker thread finished; awaiting finish of 2 more threads\n",
      "2020-04-03 14:30:18,003 : INFO : worker thread finished; awaiting finish of 1 more threads\n",
      "2020-04-03 14:30:18,011 : INFO : worker thread finished; awaiting finish of 0 more threads\n",
      "2020-04-03 14:30:18,012 : INFO : EPOCH - 4 : training on 258973 raw words (203366 effective words) took 0.2s, 1097701 effective words/s\n",
      "2020-04-03 14:30:18,183 : INFO : worker thread finished; awaiting finish of 2 more threads\n",
      "2020-04-03 14:30:18,187 : INFO : worker thread finished; awaiting finish of 1 more threads\n",
      "2020-04-03 14:30:18,193 : INFO : worker thread finished; awaiting finish of 0 more threads\n",
      "2020-04-03 14:30:18,194 : INFO : EPOCH - 5 : training on 258973 raw words (203271 effective words) took 0.2s, 1136165 effective words/s\n",
      "2020-04-03 14:30:18,195 : INFO : training on a 1294865 raw words (1016389 effective words) took 0.9s, 1080750 effective words/s\n"
     ]
    }
   ],
   "source": [
    "# 按行数据加载\n",
    "sentences = word2vec.LineSentence(word_file_path) \n",
    "\n",
    "# 训练Word2Vec模型\n",
    "\"\"\"\n",
    "__init__(self, sentences=None, size=100, alpha=0.025, \n",
    "        window=5, min_count=5, max_vocab_size=None, \n",
    "        sample=0.001, seed=1, workers=3, min_alpha=0.0001, \n",
    "        sg=0, hs=0, negative=5, cbow_mean=1, \n",
    "        hashfxn=<built-in function hash>, iter=5, null_word=0, \n",
    "        trim_rule=None, sorted_vocab=1, batch_words=10000, \n",
    "        compute_loss=False, callbacks=())\n",
    "sentences: 给定文档集合\n",
    "size:转换之后的特征向量的维度大小\n",
    "window：窗口大小，如果是Word2Vec一般设置为5~10左右；如果是短文本，那么就小一点；如果长文本，那么就大一点。如果是Char2Vec建议稍微大一点。\n",
    "min_count：如果某一个单词出现次数小于min_count,那么该单词不计算对应的词向量\n",
    "max_vocab_size：给定最多计算的词汇数目，None表示不限制。\n",
    "sg: 1(Skip-gram) 0(CBOW)， 默认为0\n",
    "hs: 1(hierarchical softmax) 0(negative)， 默认为0\n",
    "negative: 当hs为0的时候，给定负样本数目，给定为0表示不采用负采样\n",
    "iter：模型训练的迭代次数\n",
    "\"\"\"\n",
    "model = word2vec.Word2Vec(sentences, hs = 0,min_count = 2,\n",
    "                          window = 10,size = 100, compute_loss=True)"
   ]
  },
  {
   "cell_type": "markdown",
   "metadata": {},
   "source": [
    "#### 训练方式二"
   ]
  },
  {
   "cell_type": "code",
   "execution_count": 7,
   "metadata": {
    "collapsed": false,
    "scrolled": true
   },
   "outputs": [
    {
     "name": "stderr",
     "output_type": "stream",
     "text": [
      "2020-04-03 14:30:18,203 : INFO : collecting all words and their counts\n",
      "2020-04-03 14:30:18,205 : INFO : PROGRESS: at sentence #0, processed 0 words, keeping 0 word types\n",
      "2020-04-03 14:30:18,276 : INFO : collected 3269 word types from a corpus of 258973 raw words and 2311 sentences\n",
      "2020-04-03 14:30:18,277 : INFO : Loading a fresh vocabulary\n",
      "2020-04-03 14:30:18,283 : INFO : effective_min_count=1 retains 3269 unique words (100% of original 3269, drops 0)\n",
      "2020-04-03 14:30:18,284 : INFO : effective_min_count=1 leaves 258973 word corpus (100% of original 258973, drops 0)\n",
      "2020-04-03 14:30:18,295 : INFO : deleting the raw counts dictionary of 3269 items\n",
      "2020-04-03 14:30:18,297 : INFO : sample=0.001 downsamples 69 most-common words\n",
      "2020-04-03 14:30:18,299 : INFO : downsampling leaves estimated 203917 word corpus (78.7% of prior 258973)\n",
      "2020-04-03 14:30:18,309 : INFO : estimated required memory for 3269 words and 100 dimensions: 4249700 bytes\n",
      "2020-04-03 14:30:18,310 : INFO : resetting layer weights\n",
      "2020-04-03 14:30:18,352 : INFO : training model with 3 workers on 3269 vocabulary and 100 features, using sg=0 hs=0 sample=0.001 negative=5 window=10\n",
      "2020-04-03 14:30:18,525 : INFO : worker thread finished; awaiting finish of 2 more threads\n",
      "2020-04-03 14:30:18,527 : INFO : worker thread finished; awaiting finish of 1 more threads\n",
      "2020-04-03 14:30:18,535 : INFO : worker thread finished; awaiting finish of 0 more threads\n",
      "2020-04-03 14:30:18,537 : INFO : EPOCH - 1 : training on 258973 raw words (203932 effective words) took 0.2s, 1117484 effective words/s\n"
     ]
    },
    {
     "name": "stdout",
     "output_type": "stream",
     "text": [
      "总文档数目:2311\n"
     ]
    },
    {
     "name": "stderr",
     "output_type": "stream",
     "text": [
      "2020-04-03 14:30:18,718 : INFO : worker thread finished; awaiting finish of 2 more threads\n",
      "2020-04-03 14:30:18,720 : INFO : worker thread finished; awaiting finish of 1 more threads\n",
      "2020-04-03 14:30:18,726 : INFO : worker thread finished; awaiting finish of 0 more threads\n",
      "2020-04-03 14:30:18,727 : INFO : EPOCH - 2 : training on 258973 raw words (204018 effective words) took 0.2s, 1089898 effective words/s\n",
      "2020-04-03 14:30:18,903 : INFO : worker thread finished; awaiting finish of 2 more threads\n",
      "2020-04-03 14:30:18,908 : INFO : worker thread finished; awaiting finish of 1 more threads\n",
      "2020-04-03 14:30:18,913 : INFO : worker thread finished; awaiting finish of 0 more threads\n",
      "2020-04-03 14:30:18,914 : INFO : EPOCH - 3 : training on 258973 raw words (204125 effective words) took 0.2s, 1118259 effective words/s\n",
      "2020-04-03 14:30:19,074 : INFO : worker thread finished; awaiting finish of 2 more threads\n",
      "2020-04-03 14:30:19,078 : INFO : worker thread finished; awaiting finish of 1 more threads\n",
      "2020-04-03 14:30:19,085 : INFO : worker thread finished; awaiting finish of 0 more threads\n",
      "2020-04-03 14:30:19,086 : INFO : EPOCH - 4 : training on 258973 raw words (203886 effective words) took 0.2s, 1200741 effective words/s\n",
      "2020-04-03 14:30:19,249 : INFO : worker thread finished; awaiting finish of 2 more threads\n",
      "2020-04-03 14:30:19,254 : INFO : worker thread finished; awaiting finish of 1 more threads\n",
      "2020-04-03 14:30:19,261 : INFO : worker thread finished; awaiting finish of 0 more threads\n",
      "2020-04-03 14:30:19,262 : INFO : EPOCH - 5 : training on 258973 raw words (203996 effective words) took 0.2s, 1172700 effective words/s\n",
      "2020-04-03 14:30:19,429 : INFO : worker thread finished; awaiting finish of 2 more threads\n",
      "2020-04-03 14:30:19,430 : INFO : worker thread finished; awaiting finish of 1 more threads\n",
      "2020-04-03 14:30:19,433 : INFO : worker thread finished; awaiting finish of 0 more threads\n",
      "2020-04-03 14:30:19,433 : INFO : EPOCH - 6 : training on 258973 raw words (203795 effective words) took 0.2s, 1210621 effective words/s\n",
      "2020-04-03 14:30:19,602 : INFO : worker thread finished; awaiting finish of 2 more threads\n",
      "2020-04-03 14:30:19,607 : INFO : worker thread finished; awaiting finish of 1 more threads\n",
      "2020-04-03 14:30:19,610 : INFO : worker thread finished; awaiting finish of 0 more threads\n",
      "2020-04-03 14:30:19,611 : INFO : EPOCH - 7 : training on 258973 raw words (203786 effective words) took 0.2s, 1166457 effective words/s\n",
      "2020-04-03 14:30:19,787 : INFO : worker thread finished; awaiting finish of 2 more threads\n",
      "2020-04-03 14:30:19,792 : INFO : worker thread finished; awaiting finish of 1 more threads\n",
      "2020-04-03 14:30:19,797 : INFO : worker thread finished; awaiting finish of 0 more threads\n",
      "2020-04-03 14:30:19,798 : INFO : EPOCH - 8 : training on 258973 raw words (203914 effective words) took 0.2s, 1110965 effective words/s\n",
      "2020-04-03 14:30:20,010 : INFO : worker thread finished; awaiting finish of 2 more threads\n",
      "2020-04-03 14:30:20,012 : INFO : worker thread finished; awaiting finish of 1 more threads\n",
      "2020-04-03 14:30:20,023 : INFO : worker thread finished; awaiting finish of 0 more threads\n",
      "2020-04-03 14:30:20,025 : INFO : EPOCH - 9 : training on 258973 raw words (203830 effective words) took 0.2s, 910469 effective words/s\n",
      "2020-04-03 14:30:20,248 : INFO : worker thread finished; awaiting finish of 2 more threads\n",
      "2020-04-03 14:30:20,252 : INFO : worker thread finished; awaiting finish of 1 more threads\n",
      "2020-04-03 14:30:20,259 : INFO : worker thread finished; awaiting finish of 0 more threads\n",
      "2020-04-03 14:30:20,260 : INFO : EPOCH - 10 : training on 258973 raw words (203845 effective words) took 0.2s, 880457 effective words/s\n",
      "2020-04-03 14:30:20,261 : INFO : training on a 2589730 raw words (2039127 effective words) took 1.9s, 1068338 effective words/s\n"
     ]
    },
    {
     "data": {
      "text/plain": [
       "(2039127, 2589730)"
      ]
     },
     "execution_count": 7,
     "metadata": {},
     "output_type": "execute_result"
    }
   ],
   "source": [
    "# 每行数据加载\n",
    "sentences = word2vec.LineSentence(word_file_path) \n",
    "\n",
    "# 训练Word2Vec模型\n",
    "\"\"\"\n",
    "__init__(self, sentences=None, size=100, alpha=0.025, \n",
    "        window=5, min_count=5, max_vocab_size=None, \n",
    "        sample=0.001, seed=1, workers=3, min_alpha=0.0001, \n",
    "        sg=0, hs=0, negative=5, cbow_mean=1, \n",
    "        hashfxn=<built-in function hash>, iter=5, null_word=0, \n",
    "        trim_rule=None, sorted_vocab=1, batch_words=10000, \n",
    "        compute_loss=False, callbacks=())\n",
    "sg: 1(Skip-gram) 0(CBOW)\n",
    "hs: 1(hierarchical softmax) 0(negative)\n",
    "negative: 当hs为0的时候，给定负样本数目，给定为0表示不采用负采样\n",
    "\"\"\"\n",
    "model = word2vec.Word2Vec(hs = 0,min_count = 1, window = 10,size = 100, compute_loss=True)\n",
    "\n",
    "# 构建词典\n",
    "model.build_vocab(sentences)\n",
    "\n",
    "# 模型训练\n",
    "print(\"总文档数目:{}\".format(model.corpus_count))\n",
    "model.train(sentences, total_examples=model.corpus_count, epochs=10)"
   ]
  },
  {
   "cell_type": "markdown",
   "metadata": {},
   "source": [
    "## 三、Word2Vec应用"
   ]
  },
  {
   "cell_type": "markdown",
   "metadata": {},
   "source": [
    "### 1. 获取相似度最高的K个演员"
   ]
  },
  {
   "cell_type": "code",
   "execution_count": 8,
   "metadata": {
    "collapsed": false
   },
   "outputs": [
    {
     "name": "stderr",
     "output_type": "stream",
     "text": [
      "2020-04-03 14:30:20,277 : INFO : precomputing L2-norms of word weight vectors\n"
     ]
    },
    {
     "data": {
      "text/plain": [
       "[('金', 0.9261943101882935),\n",
       " ('瑞', 0.7158239483833313),\n",
       " ('渣', 0.6757111549377441),\n",
       " ('田', 0.6536321640014648),\n",
       " ('龙', 0.608456015586853),\n",
       " ('富', 0.5885674357414246),\n",
       " ('煌', 0.558769941329956),\n",
       " ('鞅', 0.5485153198242188),\n",
       " ('杜', 0.5318111181259155),\n",
       " ('伯', 0.5284663438796997)]"
      ]
     },
     "execution_count": 8,
     "metadata": {},
     "output_type": "execute_result"
    }
   ],
   "source": [
    "model.wv.similar_by_word('沙', topn =10)"
   ]
  },
  {
   "cell_type": "markdown",
   "metadata": {},
   "source": [
    "### 2. 获取单词之间的相似度"
   ]
  },
  {
   "cell_type": "code",
   "execution_count": 9,
   "metadata": {
    "collapsed": false
   },
   "outputs": [
    {
     "name": "stdout",
     "output_type": "stream",
     "text": [
      "0.33464655\n"
     ]
    }
   ],
   "source": [
    "# 夹角余弦相似度\n",
    "print(model.wv.similarity('沙', '德'))"
   ]
  },
  {
   "cell_type": "code",
   "execution_count": 10,
   "metadata": {
    "collapsed": false
   },
   "outputs": [
    {
     "name": "stdout",
     "output_type": "stream",
     "text": [
      "0.95956093\n",
      "0.38758934\n",
      "0.30301526\n",
      "0.77751446\n"
     ]
    }
   ],
   "source": [
    "# 夹角余弦相似度\n",
    "print(model.wv.similarity('审', '讯'))\n",
    "print(model.wv.similarity('审', '反'))\n",
    "print(model.wv.similarity('审', '局'))\n",
    "print(model.wv.similarity('局', '反'))"
   ]
  },
  {
   "cell_type": "markdown",
   "metadata": {},
   "source": [
    "### 3. 获取单词的词向量"
   ]
  },
  {
   "cell_type": "code",
   "execution_count": 11,
   "metadata": {
    "collapsed": false
   },
   "outputs": [
    {
     "name": "stdout",
     "output_type": "stream",
     "text": [
      "(100,)\n",
      "[-0.60956335 -0.6471069  -0.26842785  0.6162968  -0.18076341 -0.1703121\n",
      "  0.36428553  0.1416554  -0.14931701  0.06397284  0.71154076  0.99694115\n",
      "  0.8789367  -0.59439296  0.08373793  0.22902529 -0.15831263 -0.26903126\n",
      "  0.1236173  -0.20903477  0.15448995 -0.14840478 -0.4177159   0.10698174\n",
      " -0.60944647  0.03953292  0.1956923   0.1513218  -0.07037899 -0.8072933\n",
      "  0.4908197  -0.323661    0.8417529  -0.3173876   0.1118276   0.00171082\n",
      " -0.08394217 -0.16500616  0.74035805 -0.48985454  0.03330582 -0.16678555\n",
      " -0.04433866  0.05762612 -0.2563994   0.41124418 -0.99280447  0.04206005\n",
      "  0.309352    0.7236022  -0.21899389 -0.06944254  0.16188137  0.14498137\n",
      "  0.89541984 -0.48291838 -0.510195    0.11914092 -0.3826733  -0.14460754\n",
      "  0.6162793  -0.02993771  0.5329512   0.43782917  0.4966131   0.21352576\n",
      " -0.63042563 -0.12275264 -0.21682642 -0.37671444 -0.4216982   0.18426591\n",
      "  0.06127786  0.09715133 -0.06580494 -0.12927115  0.3276482   0.3567492\n",
      " -1.147274   -1.0582179   0.6785206  -0.42276222 -0.58151907 -0.04899349\n",
      " -0.6324537  -0.67960864  0.21038947 -0.06419598  0.4883826   0.2871223\n",
      " -0.06990191 -0.23321836 -0.33617038  0.2250469   0.17325544 -0.12516859\n",
      "  0.50963587 -0.31065518  0.19691834  0.14546902]\n"
     ]
    }
   ],
   "source": [
    "v1 = model.wv[\"提\"]\n",
    "print(v1.shape)\n",
    "print(v1)"
   ]
  },
  {
   "cell_type": "code",
   "execution_count": 12,
   "metadata": {
    "collapsed": false
   },
   "outputs": [
    {
     "name": "stdout",
     "output_type": "stream",
     "text": [
      "(100,)\n",
      "[-0.60956335 -0.6471069  -0.26842785  0.6162968  -0.18076341 -0.1703121\n",
      "  0.36428553  0.1416554  -0.14931701  0.06397284  0.71154076  0.99694115\n",
      "  0.8789367  -0.59439296  0.08373793  0.22902529 -0.15831263 -0.26903126\n",
      "  0.1236173  -0.20903477  0.15448995 -0.14840478 -0.4177159   0.10698174\n",
      " -0.60944647  0.03953292  0.1956923   0.1513218  -0.07037899 -0.8072933\n",
      "  0.4908197  -0.323661    0.8417529  -0.3173876   0.1118276   0.00171082\n",
      " -0.08394217 -0.16500616  0.74035805 -0.48985454  0.03330582 -0.16678555\n",
      " -0.04433866  0.05762612 -0.2563994   0.41124418 -0.99280447  0.04206005\n",
      "  0.309352    0.7236022  -0.21899389 -0.06944254  0.16188137  0.14498137\n",
      "  0.89541984 -0.48291838 -0.510195    0.11914092 -0.3826733  -0.14460754\n",
      "  0.6162793  -0.02993771  0.5329512   0.43782917  0.4966131   0.21352576\n",
      " -0.63042563 -0.12275264 -0.21682642 -0.37671444 -0.4216982   0.18426591\n",
      "  0.06127786  0.09715133 -0.06580494 -0.12927115  0.3276482   0.3567492\n",
      " -1.147274   -1.0582179   0.6785206  -0.42276222 -0.58151907 -0.04899349\n",
      " -0.6324537  -0.67960864  0.21038947 -0.06419598  0.4883826   0.2871223\n",
      " -0.06990191 -0.23321836 -0.33617038  0.2250469   0.17325544 -0.12516859\n",
      "  0.50963587 -0.31065518  0.19691834  0.14546902]\n"
     ]
    }
   ],
   "source": [
    "v1 = model.wv.get_vector(\"提\")\n",
    "print(v1.shape)\n",
    "print(v1)"
   ]
  },
  {
   "cell_type": "markdown",
   "metadata": {},
   "source": [
    "## 四、模型持久化&模型恢复加载"
   ]
  },
  {
   "cell_type": "markdown",
   "metadata": {},
   "source": [
    "### 方式一：\n",
    "直接使用save API进行模型持久化"
   ]
  },
  {
   "cell_type": "markdown",
   "metadata": {},
   "source": [
    "#### 持久化"
   ]
  },
  {
   "cell_type": "code",
   "execution_count": 13,
   "metadata": {
    "collapsed": false
   },
   "outputs": [
    {
     "name": "stderr",
     "output_type": "stream",
     "text": [
      "2020-04-03 14:30:20,358 : INFO : saving Word2Vec object under ./datas/gensim_char_word2vec1.w2v, separately None\n",
      "2020-04-03 14:30:20,360 : INFO : not storing attribute vectors_norm\n",
      "2020-04-03 14:30:20,362 : INFO : not storing attribute cum_table\n",
      "2020-04-03 14:30:20,405 : INFO : saved ./datas/gensim_char_word2vec1.w2v\n"
     ]
    }
   ],
   "source": [
    "model.save(model_file_path1)"
   ]
  },
  {
   "cell_type": "markdown",
   "metadata": {},
   "source": [
    "#### 加载"
   ]
  },
  {
   "cell_type": "code",
   "execution_count": 14,
   "metadata": {
    "collapsed": false
   },
   "outputs": [
    {
     "name": "stderr",
     "output_type": "stream",
     "text": [
      "2020-04-03 14:30:20,413 : INFO : loading Word2Vec object from ./datas/gensim_char_word2vec1.w2v\n",
      "2020-04-03 14:30:20,445 : INFO : loading wv recursively from ./datas/gensim_char_word2vec1.w2v.wv.* with mmap=None\n",
      "2020-04-03 14:30:20,447 : INFO : setting ignored attribute vectors_norm to None\n",
      "2020-04-03 14:30:20,448 : INFO : loading vocabulary recursively from ./datas/gensim_char_word2vec1.w2v.vocabulary.* with mmap=None\n",
      "2020-04-03 14:30:20,449 : INFO : loading trainables recursively from ./datas/gensim_char_word2vec1.w2v.trainables.* with mmap=None\n",
      "2020-04-03 14:30:20,451 : INFO : setting ignored attribute cum_table to None\n",
      "2020-04-03 14:30:20,452 : INFO : loaded ./datas/gensim_char_word2vec1.w2v\n"
     ]
    },
    {
     "name": "stdout",
     "output_type": "stream",
     "text": [
      "Word2Vec(vocab=3269, size=100, alpha=0.025)\n",
      "(100,)\n",
      "[-0.60956335 -0.6471069  -0.26842785  0.6162968  -0.18076341 -0.1703121\n",
      "  0.36428553  0.1416554  -0.14931701  0.06397284  0.71154076  0.99694115\n",
      "  0.8789367  -0.59439296  0.08373793  0.22902529 -0.15831263 -0.26903126\n",
      "  0.1236173  -0.20903477  0.15448995 -0.14840478 -0.4177159   0.10698174\n",
      " -0.60944647  0.03953292  0.1956923   0.1513218  -0.07037899 -0.8072933\n",
      "  0.4908197  -0.323661    0.8417529  -0.3173876   0.1118276   0.00171082\n",
      " -0.08394217 -0.16500616  0.74035805 -0.48985454  0.03330582 -0.16678555\n",
      " -0.04433866  0.05762612 -0.2563994   0.41124418 -0.99280447  0.04206005\n",
      "  0.309352    0.7236022  -0.21899389 -0.06944254  0.16188137  0.14498137\n",
      "  0.89541984 -0.48291838 -0.510195    0.11914092 -0.3826733  -0.14460754\n",
      "  0.6162793  -0.02993771  0.5329512   0.43782917  0.4966131   0.21352576\n",
      " -0.63042563 -0.12275264 -0.21682642 -0.37671444 -0.4216982   0.18426591\n",
      "  0.06127786  0.09715133 -0.06580494 -0.12927115  0.3276482   0.3567492\n",
      " -1.147274   -1.0582179   0.6785206  -0.42276222 -0.58151907 -0.04899349\n",
      " -0.6324537  -0.67960864  0.21038947 -0.06419598  0.4883826   0.2871223\n",
      " -0.06990191 -0.23321836 -0.33617038  0.2250469   0.17325544 -0.12516859\n",
      "  0.50963587 -0.31065518  0.19691834  0.14546902]\n"
     ]
    }
   ],
   "source": [
    "# 直接基于路径加载\n",
    "model2 = word2vec.Word2Vec.load(model_file_path1)\n",
    "print(model2)\n",
    "\n",
    "v1 = model2.wv.get_vector(\"提\")\n",
    "print(v1.shape)\n",
    "print(v1)"
   ]
  },
  {
   "cell_type": "markdown",
   "metadata": {},
   "source": [
    "### 方式二：\n",
    "保存为二进制词向量"
   ]
  },
  {
   "cell_type": "markdown",
   "metadata": {},
   "source": [
    "#### 持久化"
   ]
  },
  {
   "cell_type": "code",
   "execution_count": 15,
   "metadata": {
    "collapsed": false
   },
   "outputs": [
    {
     "name": "stderr",
     "output_type": "stream",
     "text": [
      "2020-04-03 14:30:20,470 : INFO : storing 3269x100 projection weights into ./datas/gensim_char_word2vec2.bin\n"
     ]
    }
   ],
   "source": [
    "model.wv.save_word2vec_format(model_file_path2,binary=True)"
   ]
  },
  {
   "cell_type": "markdown",
   "metadata": {},
   "source": [
    "#### 加载"
   ]
  },
  {
   "cell_type": "code",
   "execution_count": 16,
   "metadata": {
    "collapsed": false
   },
   "outputs": [
    {
     "name": "stderr",
     "output_type": "stream",
     "text": [
      "2020-04-03 14:30:20,824 : INFO : loading projection weights from ./datas/gensim_char_word2vec2.bin\n",
      "2020-04-03 14:30:20,828 : WARNING : duplicate word '' in ./datas/gensim_char_word2vec2.bin, ignoring all but first\n",
      "2020-04-03 14:30:20,829 : WARNING : duplicate word '' in ./datas/gensim_char_word2vec2.bin, ignoring all but first\n",
      "2020-04-03 14:30:20,831 : WARNING : duplicate word '' in ./datas/gensim_char_word2vec2.bin, ignoring all but first\n",
      "2020-04-03 14:30:20,833 : WARNING : duplicate word '' in ./datas/gensim_char_word2vec2.bin, ignoring all but first\n",
      "2020-04-03 14:30:20,834 : WARNING : duplicate word '72' in ./datas/gensim_char_word2vec2.bin, ignoring all but first\n",
      "2020-04-03 14:30:20,836 : WARNING : duplicate word '' in ./datas/gensim_char_word2vec2.bin, ignoring all but first\n",
      "2020-04-03 14:30:20,838 : WARNING : duplicate word '' in ./datas/gensim_char_word2vec2.bin, ignoring all but first\n",
      "2020-04-03 14:30:20,840 : WARNING : duplicate word '' in ./datas/gensim_char_word2vec2.bin, ignoring all but first\n",
      "2020-04-03 14:30:20,842 : WARNING : duplicate word '' in ./datas/gensim_char_word2vec2.bin, ignoring all but first\n",
      "2020-04-03 14:30:20,844 : WARNING : duplicate word '98' in ./datas/gensim_char_word2vec2.bin, ignoring all but first\n",
      "2020-04-03 14:30:20,845 : WARNING : duplicate word '' in ./datas/gensim_char_word2vec2.bin, ignoring all but first\n",
      "2020-04-03 14:30:20,847 : WARNING : duplicate word '' in ./datas/gensim_char_word2vec2.bin, ignoring all but first\n",
      "2020-04-03 14:30:20,850 : WARNING : duplicate word '' in ./datas/gensim_char_word2vec2.bin, ignoring all but first\n",
      "2020-04-03 14:30:20,851 : WARNING : duplicate word '' in ./datas/gensim_char_word2vec2.bin, ignoring all but first\n",
      "2020-04-03 14:30:20,853 : WARNING : duplicate word '8' in ./datas/gensim_char_word2vec2.bin, ignoring all but first\n",
      "2020-04-03 14:30:20,855 : WARNING : duplicate word '9' in ./datas/gensim_char_word2vec2.bin, ignoring all but first\n",
      "2020-04-03 14:30:20,856 : WARNING : duplicate word '2' in ./datas/gensim_char_word2vec2.bin, ignoring all but first\n",
      "2020-04-03 14:30:20,858 : WARNING : duplicate word '3' in ./datas/gensim_char_word2vec2.bin, ignoring all but first\n",
      "2020-04-03 14:30:20,860 : WARNING : duplicate word '' in ./datas/gensim_char_word2vec2.bin, ignoring all but first\n",
      "2020-04-03 14:30:20,861 : WARNING : duplicate word '8' in ./datas/gensim_char_word2vec2.bin, ignoring all but first\n",
      "2020-04-03 14:30:20,863 : WARNING : duplicate word '9' in ./datas/gensim_char_word2vec2.bin, ignoring all but first\n",
      "2020-04-03 14:30:20,865 : WARNING : duplicate word '9' in ./datas/gensim_char_word2vec2.bin, ignoring all but first\n",
      "2020-04-03 14:30:20,867 : WARNING : duplicate word '14' in ./datas/gensim_char_word2vec2.bin, ignoring all but first\n",
      "2020-04-03 14:30:20,869 : WARNING : duplicate word '' in ./datas/gensim_char_word2vec2.bin, ignoring all but first\n",
      "2020-04-03 14:30:20,871 : WARNING : duplicate word '' in ./datas/gensim_char_word2vec2.bin, ignoring all but first\n",
      "2020-04-03 14:30:20,873 : WARNING : duplicate word '8' in ./datas/gensim_char_word2vec2.bin, ignoring all but first\n",
      "2020-04-03 14:30:20,875 : WARNING : duplicate word '' in ./datas/gensim_char_word2vec2.bin, ignoring all but first\n",
      "2020-04-03 14:30:20,876 : WARNING : duplicate word '' in ./datas/gensim_char_word2vec2.bin, ignoring all but first\n",
      "2020-04-03 14:30:20,878 : WARNING : duplicate word '' in ./datas/gensim_char_word2vec2.bin, ignoring all but first\n",
      "2020-04-03 14:30:20,880 : WARNING : duplicate word '5' in ./datas/gensim_char_word2vec2.bin, ignoring all but first\n",
      "2020-04-03 14:30:20,881 : WARNING : duplicate word '' in ./datas/gensim_char_word2vec2.bin, ignoring all but first\n",
      "2020-04-03 14:30:20,883 : WARNING : duplicate word '3' in ./datas/gensim_char_word2vec2.bin, ignoring all but first\n",
      "2020-04-03 14:30:20,884 : WARNING : duplicate word '' in ./datas/gensim_char_word2vec2.bin, ignoring all but first\n",
      "2020-04-03 14:30:20,886 : WARNING : duplicate word '' in ./datas/gensim_char_word2vec2.bin, ignoring all but first\n",
      "2020-04-03 14:30:20,888 : WARNING : duplicate word '48' in ./datas/gensim_char_word2vec2.bin, ignoring all but first\n",
      "2020-04-03 14:30:20,891 : WARNING : duplicate word '6' in ./datas/gensim_char_word2vec2.bin, ignoring all but first\n",
      "2020-04-03 14:30:20,892 : WARNING : duplicate word '3' in ./datas/gensim_char_word2vec2.bin, ignoring all but first\n",
      "2020-04-03 14:30:20,895 : WARNING : duplicate word '1' in ./datas/gensim_char_word2vec2.bin, ignoring all but first\n",
      "2020-04-03 14:30:20,897 : WARNING : duplicate word '' in ./datas/gensim_char_word2vec2.bin, ignoring all but first\n",
      "2020-04-03 14:30:20,899 : WARNING : duplicate word '' in ./datas/gensim_char_word2vec2.bin, ignoring all but first\n",
      "2020-04-03 14:30:20,901 : WARNING : duplicate word '5' in ./datas/gensim_char_word2vec2.bin, ignoring all but first\n",
      "2020-04-03 14:30:20,902 : WARNING : duplicate word '3' in ./datas/gensim_char_word2vec2.bin, ignoring all but first\n",
      "2020-04-03 14:30:20,905 : WARNING : duplicate word '6' in ./datas/gensim_char_word2vec2.bin, ignoring all but first\n",
      "2020-04-03 14:30:20,907 : WARNING : duplicate word '' in ./datas/gensim_char_word2vec2.bin, ignoring all but first\n",
      "2020-04-03 14:30:20,908 : WARNING : duplicate word '' in ./datas/gensim_char_word2vec2.bin, ignoring all but first\n",
      "2020-04-03 14:30:20,910 : WARNING : duplicate word '5' in ./datas/gensim_char_word2vec2.bin, ignoring all but first\n",
      "2020-04-03 14:30:20,912 : WARNING : duplicate word '' in ./datas/gensim_char_word2vec2.bin, ignoring all but first\n",
      "2020-04-03 14:30:20,913 : WARNING : duplicate word '04' in ./datas/gensim_char_word2vec2.bin, ignoring all but first\n",
      "2020-04-03 14:30:20,914 : WARNING : duplicate word '' in ./datas/gensim_char_word2vec2.bin, ignoring all but first\n",
      "2020-04-03 14:30:20,916 : WARNING : duplicate word '9' in ./datas/gensim_char_word2vec2.bin, ignoring all but first\n",
      "2020-04-03 14:30:20,918 : WARNING : duplicate word '14' in ./datas/gensim_char_word2vec2.bin, ignoring all but first\n",
      "2020-04-03 14:30:20,919 : WARNING : duplicate word '' in ./datas/gensim_char_word2vec2.bin, ignoring all but first\n",
      "2020-04-03 14:30:20,921 : WARNING : duplicate word '6' in ./datas/gensim_char_word2vec2.bin, ignoring all but first\n",
      "2020-04-03 14:30:20,922 : WARNING : duplicate word '' in ./datas/gensim_char_word2vec2.bin, ignoring all but first\n",
      "2020-04-03 14:30:20,923 : WARNING : duplicate word '' in ./datas/gensim_char_word2vec2.bin, ignoring all but first\n",
      "2020-04-03 14:30:20,925 : WARNING : duplicate word '' in ./datas/gensim_char_word2vec2.bin, ignoring all but first\n",
      "2020-04-03 14:30:20,926 : WARNING : duplicate word '4' in ./datas/gensim_char_word2vec2.bin, ignoring all but first\n",
      "2020-04-03 14:30:20,928 : WARNING : duplicate word '0498' in ./datas/gensim_char_word2vec2.bin, ignoring all but first\n",
      "2020-04-03 14:30:20,929 : WARNING : duplicate word '6' in ./datas/gensim_char_word2vec2.bin, ignoring all but first\n",
      "2020-04-03 14:30:20,930 : WARNING : duplicate word '' in ./datas/gensim_char_word2vec2.bin, ignoring all but first\n",
      "2020-04-03 14:30:20,932 : WARNING : duplicate word '39' in ./datas/gensim_char_word2vec2.bin, ignoring all but first\n",
      "2020-04-03 14:30:20,933 : WARNING : duplicate word '6' in ./datas/gensim_char_word2vec2.bin, ignoring all but first\n",
      "2020-04-03 14:30:20,935 : WARNING : duplicate word '' in ./datas/gensim_char_word2vec2.bin, ignoring all but first\n",
      "2020-04-03 14:30:20,937 : WARNING : duplicate word '5' in ./datas/gensim_char_word2vec2.bin, ignoring all but first\n",
      "2020-04-03 14:30:20,939 : WARNING : duplicate word '' in ./datas/gensim_char_word2vec2.bin, ignoring all but first\n",
      "2020-04-03 14:30:20,941 : WARNING : duplicate word '' in ./datas/gensim_char_word2vec2.bin, ignoring all but first\n",
      "2020-04-03 14:30:20,942 : WARNING : duplicate word '2' in ./datas/gensim_char_word2vec2.bin, ignoring all but first\n",
      "2020-04-03 14:30:20,944 : WARNING : duplicate word '' in ./datas/gensim_char_word2vec2.bin, ignoring all but first\n",
      "2020-04-03 14:30:20,945 : WARNING : duplicate word '27' in ./datas/gensim_char_word2vec2.bin, ignoring all but first\n",
      "2020-04-03 14:30:20,947 : WARNING : duplicate word '' in ./datas/gensim_char_word2vec2.bin, ignoring all but first\n",
      "2020-04-03 14:30:20,948 : WARNING : duplicate word '' in ./datas/gensim_char_word2vec2.bin, ignoring all but first\n",
      "2020-04-03 14:30:20,950 : WARNING : duplicate word '' in ./datas/gensim_char_word2vec2.bin, ignoring all but first\n",
      "2020-04-03 14:30:20,952 : WARNING : duplicate word '' in ./datas/gensim_char_word2vec2.bin, ignoring all but first\n",
      "2020-04-03 14:30:20,954 : WARNING : duplicate word '' in ./datas/gensim_char_word2vec2.bin, ignoring all but first\n",
      "2020-04-03 14:30:20,955 : WARNING : duplicate word '8' in ./datas/gensim_char_word2vec2.bin, ignoring all but first\n",
      "2020-04-03 14:30:20,957 : WARNING : duplicate word '3' in ./datas/gensim_char_word2vec2.bin, ignoring all but first\n",
      "2020-04-03 14:30:20,959 : WARNING : duplicate word '7' in ./datas/gensim_char_word2vec2.bin, ignoring all but first\n",
      "2020-04-03 14:30:20,960 : WARNING : duplicate word '' in ./datas/gensim_char_word2vec2.bin, ignoring all but first\n",
      "2020-04-03 14:30:20,962 : WARNING : duplicate word '8' in ./datas/gensim_char_word2vec2.bin, ignoring all but first\n",
      "2020-04-03 14:30:20,963 : WARNING : duplicate word '4' in ./datas/gensim_char_word2vec2.bin, ignoring all but first\n",
      "2020-04-03 14:30:20,965 : WARNING : duplicate word '7' in ./datas/gensim_char_word2vec2.bin, ignoring all but first\n",
      "2020-04-03 14:30:20,967 : WARNING : duplicate word '5' in ./datas/gensim_char_word2vec2.bin, ignoring all but first\n",
      "2020-04-03 14:30:20,968 : WARNING : duplicate word '' in ./datas/gensim_char_word2vec2.bin, ignoring all but first\n",
      "2020-04-03 14:30:20,970 : WARNING : duplicate word '9' in ./datas/gensim_char_word2vec2.bin, ignoring all but first\n",
      "2020-04-03 14:30:20,972 : WARNING : duplicate word '3' in ./datas/gensim_char_word2vec2.bin, ignoring all but first\n",
      "2020-04-03 14:30:20,975 : WARNING : duplicate word '1' in ./datas/gensim_char_word2vec2.bin, ignoring all but first\n",
      "2020-04-03 14:30:20,977 : WARNING : duplicate word '5' in ./datas/gensim_char_word2vec2.bin, ignoring all but first\n",
      "2020-04-03 14:30:20,979 : WARNING : duplicate word '9' in ./datas/gensim_char_word2vec2.bin, ignoring all but first\n",
      "2020-04-03 14:30:20,981 : WARNING : duplicate word '' in ./datas/gensim_char_word2vec2.bin, ignoring all but first\n",
      "2020-04-03 14:30:20,983 : WARNING : duplicate word '' in ./datas/gensim_char_word2vec2.bin, ignoring all but first\n",
      "2020-04-03 14:30:20,985 : WARNING : duplicate word '3' in ./datas/gensim_char_word2vec2.bin, ignoring all but first\n",
      "2020-04-03 14:30:20,986 : WARNING : duplicate word '8' in ./datas/gensim_char_word2vec2.bin, ignoring all but first\n",
      "2020-04-03 14:30:20,988 : WARNING : duplicate word '' in ./datas/gensim_char_word2vec2.bin, ignoring all but first\n",
      "2020-04-03 14:30:20,990 : WARNING : duplicate word '' in ./datas/gensim_char_word2vec2.bin, ignoring all but first\n",
      "2020-04-03 14:30:20,991 : WARNING : duplicate word '6' in ./datas/gensim_char_word2vec2.bin, ignoring all but first\n",
      "2020-04-03 14:30:20,993 : WARNING : duplicate word '' in ./datas/gensim_char_word2vec2.bin, ignoring all but first\n",
      "2020-04-03 14:30:20,994 : WARNING : duplicate word '' in ./datas/gensim_char_word2vec2.bin, ignoring all but first\n",
      "2020-04-03 14:30:20,995 : WARNING : duplicate word '2' in ./datas/gensim_char_word2vec2.bin, ignoring all but first\n",
      "2020-04-03 14:30:20,997 : WARNING : duplicate word '8' in ./datas/gensim_char_word2vec2.bin, ignoring all but first\n",
      "2020-04-03 14:30:20,999 : WARNING : duplicate word '' in ./datas/gensim_char_word2vec2.bin, ignoring all but first\n",
      "2020-04-03 14:30:21,001 : WARNING : duplicate word '33' in ./datas/gensim_char_word2vec2.bin, ignoring all but first\n",
      "2020-04-03 14:30:21,002 : WARNING : duplicate word '8' in ./datas/gensim_char_word2vec2.bin, ignoring all but first\n",
      "2020-04-03 14:30:21,005 : WARNING : duplicate word '9' in ./datas/gensim_char_word2vec2.bin, ignoring all but first\n",
      "2020-04-03 14:30:21,007 : WARNING : duplicate word '' in ./datas/gensim_char_word2vec2.bin, ignoring all but first\n",
      "2020-04-03 14:30:21,008 : WARNING : duplicate word '' in ./datas/gensim_char_word2vec2.bin, ignoring all but first\n",
      "2020-04-03 14:30:21,009 : WARNING : duplicate word '3' in ./datas/gensim_char_word2vec2.bin, ignoring all but first\n",
      "2020-04-03 14:30:21,011 : WARNING : duplicate word '5' in ./datas/gensim_char_word2vec2.bin, ignoring all but first\n",
      "2020-04-03 14:30:21,012 : WARNING : duplicate word '' in ./datas/gensim_char_word2vec2.bin, ignoring all but first\n",
      "2020-04-03 14:30:21,014 : WARNING : duplicate word '93' in ./datas/gensim_char_word2vec2.bin, ignoring all but first\n",
      "2020-04-03 14:30:21,016 : WARNING : duplicate word '7' in ./datas/gensim_char_word2vec2.bin, ignoring all but first\n",
      "2020-04-03 14:30:21,017 : WARNING : duplicate word '9' in ./datas/gensim_char_word2vec2.bin, ignoring all but first\n",
      "2020-04-03 14:30:21,018 : WARNING : duplicate word '' in ./datas/gensim_char_word2vec2.bin, ignoring all but first\n",
      "2020-04-03 14:30:21,020 : WARNING : duplicate word '2' in ./datas/gensim_char_word2vec2.bin, ignoring all but first\n",
      "2020-04-03 14:30:21,021 : WARNING : duplicate word '8' in ./datas/gensim_char_word2vec2.bin, ignoring all but first\n",
      "2020-04-03 14:30:21,023 : WARNING : duplicate word '' in ./datas/gensim_char_word2vec2.bin, ignoring all but first\n",
      "2020-04-03 14:30:21,024 : WARNING : duplicate word '3' in ./datas/gensim_char_word2vec2.bin, ignoring all but first\n",
      "2020-04-03 14:30:21,026 : WARNING : duplicate word '64' in ./datas/gensim_char_word2vec2.bin, ignoring all but first\n",
      "2020-04-03 14:30:21,027 : WARNING : duplicate word '' in ./datas/gensim_char_word2vec2.bin, ignoring all but first\n",
      "2020-04-03 14:30:21,029 : WARNING : duplicate word '7' in ./datas/gensim_char_word2vec2.bin, ignoring all but first\n",
      "2020-04-03 14:30:21,030 : WARNING : duplicate word '' in ./datas/gensim_char_word2vec2.bin, ignoring all but first\n",
      "2020-04-03 14:30:21,032 : WARNING : duplicate word '26' in ./datas/gensim_char_word2vec2.bin, ignoring all but first\n",
      "2020-04-03 14:30:21,033 : WARNING : duplicate word '5' in ./datas/gensim_char_word2vec2.bin, ignoring all but first\n",
      "2020-04-03 14:30:21,035 : WARNING : duplicate word '' in ./datas/gensim_char_word2vec2.bin, ignoring all but first\n",
      "2020-04-03 14:30:21,037 : WARNING : duplicate word '4' in ./datas/gensim_char_word2vec2.bin, ignoring all but first\n",
      "2020-04-03 14:30:21,039 : WARNING : duplicate word '7' in ./datas/gensim_char_word2vec2.bin, ignoring all but first\n",
      "2020-04-03 14:30:21,040 : WARNING : duplicate word '72' in ./datas/gensim_char_word2vec2.bin, ignoring all but first\n",
      "2020-04-03 14:30:21,042 : WARNING : duplicate word '' in ./datas/gensim_char_word2vec2.bin, ignoring all but first\n",
      "2020-04-03 14:30:21,044 : WARNING : duplicate word '' in ./datas/gensim_char_word2vec2.bin, ignoring all but first\n",
      "2020-04-03 14:30:21,046 : WARNING : duplicate word '' in ./datas/gensim_char_word2vec2.bin, ignoring all but first\n",
      "2020-04-03 14:30:21,048 : WARNING : duplicate word '2' in ./datas/gensim_char_word2vec2.bin, ignoring all but first\n",
      "2020-04-03 14:30:21,049 : WARNING : duplicate word '' in ./datas/gensim_char_word2vec2.bin, ignoring all but first\n",
      "2020-04-03 14:30:21,051 : WARNING : duplicate word '62' in ./datas/gensim_char_word2vec2.bin, ignoring all but first\n",
      "2020-04-03 14:30:21,052 : WARNING : duplicate word '7' in ./datas/gensim_char_word2vec2.bin, ignoring all but first\n",
      "2020-04-03 14:30:21,055 : WARNING : duplicate word '56' in ./datas/gensim_char_word2vec2.bin, ignoring all but first\n",
      "2020-04-03 14:30:21,056 : WARNING : duplicate word '13' in ./datas/gensim_char_word2vec2.bin, ignoring all but first\n",
      "2020-04-03 14:30:21,058 : WARNING : duplicate word '6' in ./datas/gensim_char_word2vec2.bin, ignoring all but first\n",
      "2020-04-03 14:30:21,060 : WARNING : duplicate word '' in ./datas/gensim_char_word2vec2.bin, ignoring all but first\n",
      "2020-04-03 14:30:21,062 : WARNING : duplicate word '2' in ./datas/gensim_char_word2vec2.bin, ignoring all but first\n",
      "2020-04-03 14:30:21,063 : WARNING : duplicate word '' in ./datas/gensim_char_word2vec2.bin, ignoring all but first\n",
      "2020-04-03 14:30:21,064 : WARNING : duplicate word '' in ./datas/gensim_char_word2vec2.bin, ignoring all but first\n",
      "2020-04-03 14:30:21,066 : WARNING : duplicate word '2' in ./datas/gensim_char_word2vec2.bin, ignoring all but first\n",
      "2020-04-03 14:30:21,067 : WARNING : duplicate word '' in ./datas/gensim_char_word2vec2.bin, ignoring all but first\n",
      "2020-04-03 14:30:21,068 : WARNING : duplicate word '52' in ./datas/gensim_char_word2vec2.bin, ignoring all but first\n",
      "2020-04-03 14:30:21,070 : WARNING : duplicate word '3' in ./datas/gensim_char_word2vec2.bin, ignoring all but first\n",
      "2020-04-03 14:30:21,071 : WARNING : duplicate word '' in ./datas/gensim_char_word2vec2.bin, ignoring all but first\n",
      "2020-04-03 14:30:21,073 : WARNING : duplicate word '' in ./datas/gensim_char_word2vec2.bin, ignoring all but first\n",
      "2020-04-03 14:30:21,076 : WARNING : duplicate word '07' in ./datas/gensim_char_word2vec2.bin, ignoring all but first\n",
      "2020-04-03 14:30:21,077 : WARNING : duplicate word '16' in ./datas/gensim_char_word2vec2.bin, ignoring all but first\n",
      "2020-04-03 14:30:21,079 : WARNING : duplicate word '' in ./datas/gensim_char_word2vec2.bin, ignoring all but first\n",
      "2020-04-03 14:30:21,080 : WARNING : duplicate word '5' in ./datas/gensim_char_word2vec2.bin, ignoring all but first\n",
      "2020-04-03 14:30:21,082 : WARNING : duplicate word '' in ./datas/gensim_char_word2vec2.bin, ignoring all but first\n",
      "2020-04-03 14:30:21,083 : WARNING : duplicate word '' in ./datas/gensim_char_word2vec2.bin, ignoring all but first\n",
      "2020-04-03 14:30:21,084 : WARNING : duplicate word '' in ./datas/gensim_char_word2vec2.bin, ignoring all but first\n",
      "2020-04-03 14:30:21,088 : WARNING : duplicate word '48' in ./datas/gensim_char_word2vec2.bin, ignoring all but first\n",
      "2020-04-03 14:30:21,090 : WARNING : duplicate word '' in ./datas/gensim_char_word2vec2.bin, ignoring all but first\n",
      "2020-04-03 14:30:21,091 : WARNING : duplicate word '' in ./datas/gensim_char_word2vec2.bin, ignoring all but first\n",
      "2020-04-03 14:30:21,094 : WARNING : duplicate word '' in ./datas/gensim_char_word2vec2.bin, ignoring all but first\n",
      "2020-04-03 14:30:21,096 : WARNING : duplicate word '14' in ./datas/gensim_char_word2vec2.bin, ignoring all but first\n",
      "2020-04-03 14:30:21,098 : WARNING : duplicate word '97' in ./datas/gensim_char_word2vec2.bin, ignoring all but first\n",
      "2020-04-03 14:30:21,099 : WARNING : duplicate word '3' in ./datas/gensim_char_word2vec2.bin, ignoring all but first\n",
      "2020-04-03 14:30:21,101 : WARNING : duplicate word '' in ./datas/gensim_char_word2vec2.bin, ignoring all but first\n",
      "2020-04-03 14:30:21,103 : WARNING : duplicate word '' in ./datas/gensim_char_word2vec2.bin, ignoring all but first\n",
      "2020-04-03 14:30:21,105 : WARNING : duplicate word '2' in ./datas/gensim_char_word2vec2.bin, ignoring all but first\n",
      "2020-04-03 14:30:21,106 : WARNING : duplicate word '4' in ./datas/gensim_char_word2vec2.bin, ignoring all but first\n",
      "2020-04-03 14:30:21,107 : WARNING : duplicate word '' in ./datas/gensim_char_word2vec2.bin, ignoring all but first\n",
      "2020-04-03 14:30:21,109 : WARNING : duplicate word '' in ./datas/gensim_char_word2vec2.bin, ignoring all but first\n",
      "2020-04-03 14:30:21,110 : WARNING : duplicate word '' in ./datas/gensim_char_word2vec2.bin, ignoring all but first\n",
      "2020-04-03 14:30:21,111 : WARNING : duplicate word '' in ./datas/gensim_char_word2vec2.bin, ignoring all but first\n",
      "2020-04-03 14:30:21,113 : WARNING : duplicate word '' in ./datas/gensim_char_word2vec2.bin, ignoring all but first\n",
      "2020-04-03 14:30:21,115 : WARNING : duplicate word '5' in ./datas/gensim_char_word2vec2.bin, ignoring all but first\n",
      "2020-04-03 14:30:21,116 : WARNING : duplicate word '23' in ./datas/gensim_char_word2vec2.bin, ignoring all but first\n",
      "2020-04-03 14:30:21,118 : WARNING : duplicate word '4' in ./datas/gensim_char_word2vec2.bin, ignoring all but first\n",
      "2020-04-03 14:30:21,119 : WARNING : duplicate word '8' in ./datas/gensim_char_word2vec2.bin, ignoring all but first\n",
      "2020-04-03 14:30:21,121 : WARNING : duplicate word '3' in ./datas/gensim_char_word2vec2.bin, ignoring all but first\n",
      "2020-04-03 14:30:21,123 : WARNING : duplicate word '2' in ./datas/gensim_char_word2vec2.bin, ignoring all but first\n",
      "2020-04-03 14:30:21,125 : WARNING : duplicate word '' in ./datas/gensim_char_word2vec2.bin, ignoring all but first\n",
      "2020-04-03 14:30:21,127 : WARNING : duplicate word '2' in ./datas/gensim_char_word2vec2.bin, ignoring all but first\n",
      "2020-04-03 14:30:21,128 : WARNING : duplicate word '93' in ./datas/gensim_char_word2vec2.bin, ignoring all but first\n",
      "2020-04-03 14:30:21,130 : WARNING : duplicate word '' in ./datas/gensim_char_word2vec2.bin, ignoring all but first\n",
      "2020-04-03 14:30:21,132 : WARNING : duplicate word '2' in ./datas/gensim_char_word2vec2.bin, ignoring all but first\n",
      "2020-04-03 14:30:21,134 : WARNING : duplicate word '3' in ./datas/gensim_char_word2vec2.bin, ignoring all but first\n",
      "2020-04-03 14:30:21,135 : WARNING : duplicate word '3' in ./datas/gensim_char_word2vec2.bin, ignoring all but first\n",
      "2020-04-03 14:30:21,136 : WARNING : duplicate word '' in ./datas/gensim_char_word2vec2.bin, ignoring all but first\n",
      "2020-04-03 14:30:21,138 : WARNING : duplicate word '' in ./datas/gensim_char_word2vec2.bin, ignoring all but first\n",
      "2020-04-03 14:30:21,140 : WARNING : duplicate word '85' in ./datas/gensim_char_word2vec2.bin, ignoring all but first\n",
      "2020-04-03 14:30:21,141 : WARNING : duplicate word '64' in ./datas/gensim_char_word2vec2.bin, ignoring all but first\n",
      "2020-04-03 14:30:21,143 : WARNING : duplicate word '' in ./datas/gensim_char_word2vec2.bin, ignoring all but first\n",
      "2020-04-03 14:30:21,144 : WARNING : duplicate word '' in ./datas/gensim_char_word2vec2.bin, ignoring all but first\n",
      "2020-04-03 14:30:21,145 : WARNING : duplicate word '' in ./datas/gensim_char_word2vec2.bin, ignoring all but first\n",
      "2020-04-03 14:30:21,147 : WARNING : duplicate word '4' in ./datas/gensim_char_word2vec2.bin, ignoring all but first\n",
      "2020-04-03 14:30:21,149 : WARNING : duplicate word '' in ./datas/gensim_char_word2vec2.bin, ignoring all but first\n",
      "2020-04-03 14:30:21,150 : WARNING : duplicate word '' in ./datas/gensim_char_word2vec2.bin, ignoring all but first\n",
      "2020-04-03 14:30:21,152 : WARNING : duplicate word '7' in ./datas/gensim_char_word2vec2.bin, ignoring all but first\n",
      "2020-04-03 14:30:21,153 : WARNING : duplicate word '56' in ./datas/gensim_char_word2vec2.bin, ignoring all but first\n",
      "2020-04-03 14:30:21,156 : WARNING : duplicate word '1' in ./datas/gensim_char_word2vec2.bin, ignoring all but first\n",
      "2020-04-03 14:30:21,158 : WARNING : duplicate word '' in ./datas/gensim_char_word2vec2.bin, ignoring all but first\n",
      "2020-04-03 14:30:21,160 : WARNING : duplicate word '' in ./datas/gensim_char_word2vec2.bin, ignoring all but first\n",
      "2020-04-03 14:30:21,161 : WARNING : duplicate word '' in ./datas/gensim_char_word2vec2.bin, ignoring all but first\n",
      "2020-04-03 14:30:21,163 : WARNING : duplicate word '9' in ./datas/gensim_char_word2vec2.bin, ignoring all but first\n",
      "2020-04-03 14:30:21,165 : WARNING : duplicate word '' in ./datas/gensim_char_word2vec2.bin, ignoring all but first\n",
      "2020-04-03 14:30:21,167 : WARNING : duplicate word '' in ./datas/gensim_char_word2vec2.bin, ignoring all but first\n",
      "2020-04-03 14:30:21,169 : WARNING : duplicate word '03' in ./datas/gensim_char_word2vec2.bin, ignoring all but first\n",
      "2020-04-03 14:30:21,171 : WARNING : duplicate word '' in ./datas/gensim_char_word2vec2.bin, ignoring all but first\n",
      "2020-04-03 14:30:21,174 : WARNING : duplicate word '64' in ./datas/gensim_char_word2vec2.bin, ignoring all but first\n",
      "2020-04-03 14:30:21,176 : WARNING : duplicate word '2' in ./datas/gensim_char_word2vec2.bin, ignoring all but first\n",
      "2020-04-03 14:30:21,178 : WARNING : duplicate word '52' in ./datas/gensim_char_word2vec2.bin, ignoring all but first\n",
      "2020-04-03 14:30:21,180 : WARNING : duplicate word '' in ./datas/gensim_char_word2vec2.bin, ignoring all but first\n",
      "2020-04-03 14:30:21,182 : WARNING : duplicate word '' in ./datas/gensim_char_word2vec2.bin, ignoring all but first\n",
      "2020-04-03 14:30:21,183 : WARNING : duplicate word '' in ./datas/gensim_char_word2vec2.bin, ignoring all but first\n",
      "2020-04-03 14:30:21,185 : WARNING : duplicate word '4' in ./datas/gensim_char_word2vec2.bin, ignoring all but first\n",
      "2020-04-03 14:30:21,187 : WARNING : duplicate word '7' in ./datas/gensim_char_word2vec2.bin, ignoring all but first\n",
      "2020-04-03 14:30:21,189 : WARNING : duplicate word '1' in ./datas/gensim_char_word2vec2.bin, ignoring all but first\n",
      "2020-04-03 14:30:21,191 : WARNING : duplicate word '7' in ./datas/gensim_char_word2vec2.bin, ignoring all but first\n",
      "2020-04-03 14:30:21,193 : WARNING : duplicate word '' in ./datas/gensim_char_word2vec2.bin, ignoring all but first\n",
      "2020-04-03 14:30:21,197 : WARNING : duplicate word '564' in ./datas/gensim_char_word2vec2.bin, ignoring all but first\n",
      "2020-04-03 14:30:21,199 : WARNING : duplicate word '' in ./datas/gensim_char_word2vec2.bin, ignoring all but first\n",
      "2020-04-03 14:30:21,200 : WARNING : duplicate word '' in ./datas/gensim_char_word2vec2.bin, ignoring all but first\n",
      "2020-04-03 14:30:21,203 : WARNING : duplicate word '6' in ./datas/gensim_char_word2vec2.bin, ignoring all but first\n",
      "2020-04-03 14:30:21,205 : WARNING : duplicate word '5' in ./datas/gensim_char_word2vec2.bin, ignoring all but first\n",
      "2020-04-03 14:30:21,208 : WARNING : duplicate word '' in ./datas/gensim_char_word2vec2.bin, ignoring all but first\n",
      "2020-04-03 14:30:21,210 : WARNING : duplicate word '4' in ./datas/gensim_char_word2vec2.bin, ignoring all but first\n",
      "2020-04-03 14:30:21,212 : WARNING : duplicate word '' in ./datas/gensim_char_word2vec2.bin, ignoring all but first\n",
      "2020-04-03 14:30:21,215 : WARNING : duplicate word '' in ./datas/gensim_char_word2vec2.bin, ignoring all but first\n",
      "2020-04-03 14:30:21,216 : WARNING : duplicate word '5' in ./datas/gensim_char_word2vec2.bin, ignoring all but first\n",
      "2020-04-03 14:30:21,218 : WARNING : duplicate word '2' in ./datas/gensim_char_word2vec2.bin, ignoring all but first\n",
      "2020-04-03 14:30:21,221 : WARNING : duplicate word '1' in ./datas/gensim_char_word2vec2.bin, ignoring all but first\n",
      "2020-04-03 14:30:21,223 : WARNING : duplicate word '' in ./datas/gensim_char_word2vec2.bin, ignoring all but first\n",
      "2020-04-03 14:30:21,224 : WARNING : duplicate word '9' in ./datas/gensim_char_word2vec2.bin, ignoring all but first\n",
      "2020-04-03 14:30:21,227 : WARNING : duplicate word '8' in ./datas/gensim_char_word2vec2.bin, ignoring all but first\n",
      "2020-04-03 14:30:21,228 : WARNING : duplicate word '6' in ./datas/gensim_char_word2vec2.bin, ignoring all but first\n",
      "2020-04-03 14:30:21,232 : WARNING : duplicate word '' in ./datas/gensim_char_word2vec2.bin, ignoring all but first\n",
      "2020-04-03 14:30:21,234 : WARNING : duplicate word '67' in ./datas/gensim_char_word2vec2.bin, ignoring all but first\n",
      "2020-04-03 14:30:21,235 : WARNING : duplicate word '' in ./datas/gensim_char_word2vec2.bin, ignoring all but first\n",
      "2020-04-03 14:30:21,238 : WARNING : duplicate word '' in ./datas/gensim_char_word2vec2.bin, ignoring all but first\n",
      "2020-04-03 14:30:21,239 : WARNING : duplicate word '2' in ./datas/gensim_char_word2vec2.bin, ignoring all but first\n",
      "2020-04-03 14:30:21,241 : WARNING : duplicate word '' in ./datas/gensim_char_word2vec2.bin, ignoring all but first\n",
      "2020-04-03 14:30:21,242 : WARNING : duplicate word '6' in ./datas/gensim_char_word2vec2.bin, ignoring all but first\n",
      "2020-04-03 14:30:21,244 : WARNING : duplicate word '3' in ./datas/gensim_char_word2vec2.bin, ignoring all but first\n",
      "2020-04-03 14:30:21,245 : WARNING : duplicate word '' in ./datas/gensim_char_word2vec2.bin, ignoring all but first\n",
      "2020-04-03 14:30:21,248 : WARNING : duplicate word '5' in ./datas/gensim_char_word2vec2.bin, ignoring all but first\n",
      "2020-04-03 14:30:21,250 : WARNING : duplicate word '44' in ./datas/gensim_char_word2vec2.bin, ignoring all but first\n",
      "2020-04-03 14:30:21,251 : WARNING : duplicate word '7' in ./datas/gensim_char_word2vec2.bin, ignoring all but first\n",
      "2020-04-03 14:30:21,253 : WARNING : duplicate word '' in ./datas/gensim_char_word2vec2.bin, ignoring all but first\n",
      "2020-04-03 14:30:21,255 : WARNING : duplicate word '' in ./datas/gensim_char_word2vec2.bin, ignoring all but first\n",
      "2020-04-03 14:30:21,257 : WARNING : duplicate word '5' in ./datas/gensim_char_word2vec2.bin, ignoring all but first\n",
      "2020-04-03 14:30:21,258 : WARNING : duplicate word '4' in ./datas/gensim_char_word2vec2.bin, ignoring all but first\n",
      "2020-04-03 14:30:21,260 : WARNING : duplicate word '4' in ./datas/gensim_char_word2vec2.bin, ignoring all but first\n",
      "2020-04-03 14:30:21,262 : WARNING : duplicate word '' in ./datas/gensim_char_word2vec2.bin, ignoring all but first\n",
      "2020-04-03 14:30:21,264 : WARNING : duplicate word '' in ./datas/gensim_char_word2vec2.bin, ignoring all but first\n",
      "2020-04-03 14:30:21,266 : WARNING : duplicate word '' in ./datas/gensim_char_word2vec2.bin, ignoring all but first\n",
      "2020-04-03 14:30:21,267 : WARNING : duplicate word '64' in ./datas/gensim_char_word2vec2.bin, ignoring all but first\n",
      "2020-04-03 14:30:21,269 : WARNING : duplicate word '8' in ./datas/gensim_char_word2vec2.bin, ignoring all but first\n",
      "2020-04-03 14:30:21,271 : WARNING : duplicate word '7' in ./datas/gensim_char_word2vec2.bin, ignoring all but first\n"
     ]
    },
    {
     "ename": "UnicodeDecodeError",
     "evalue": "'utf-8' codec can't decode byte 0xbb in position 0: invalid start byte",
     "output_type": "error",
     "traceback": [
      "\u001b[0;31m---------------------------------------------------------------------------\u001b[0m",
      "\u001b[0;31mUnicodeDecodeError\u001b[0m                        Traceback (most recent call last)",
      "\u001b[0;32m<ipython-input-16-703c9606ff39>\u001b[0m in \u001b[0;36m<module>\u001b[0;34m()\u001b[0m\n\u001b[1;32m      1\u001b[0m \u001b[1;31m# 加载模型\u001b[0m\u001b[1;33m\u001b[0m\u001b[1;33m\u001b[0m\u001b[0m\n\u001b[0;32m----> 2\u001b[0;31m \u001b[0mmodel2\u001b[0m \u001b[1;33m=\u001b[0m \u001b[0mgensim\u001b[0m\u001b[1;33m.\u001b[0m\u001b[0mmodels\u001b[0m\u001b[1;33m.\u001b[0m\u001b[0mKeyedVectors\u001b[0m\u001b[1;33m.\u001b[0m\u001b[0mload_word2vec_format\u001b[0m\u001b[1;33m(\u001b[0m\u001b[0mmodel_file_path2\u001b[0m\u001b[1;33m,\u001b[0m\u001b[0mbinary\u001b[0m\u001b[1;33m=\u001b[0m\u001b[1;32mTrue\u001b[0m\u001b[1;33m)\u001b[0m\u001b[1;33m\u001b[0m\u001b[0m\n\u001b[0m\u001b[1;32m      3\u001b[0m \u001b[0mprint\u001b[0m\u001b[1;33m(\u001b[0m\u001b[0mmodel2\u001b[0m\u001b[1;33m)\u001b[0m\u001b[1;33m\u001b[0m\u001b[0m\n\u001b[1;32m      4\u001b[0m \u001b[1;33m\u001b[0m\u001b[0m\n\u001b[1;32m      5\u001b[0m \u001b[1;31m# 应用模型\u001b[0m\u001b[1;33m\u001b[0m\u001b[1;33m\u001b[0m\u001b[0m\n",
      "\u001b[0;32mC:\\Anaconda3\\lib\\site-packages\\gensim\\models\\keyedvectors.py\u001b[0m in \u001b[0;36mload_word2vec_format\u001b[0;34m(cls, fname, fvocab, binary, encoding, unicode_errors, limit, datatype)\u001b[0m\n\u001b[1;32m   1496\u001b[0m         return _load_word2vec_format(\n\u001b[1;32m   1497\u001b[0m             \u001b[0mcls\u001b[0m\u001b[1;33m,\u001b[0m \u001b[0mfname\u001b[0m\u001b[1;33m,\u001b[0m \u001b[0mfvocab\u001b[0m\u001b[1;33m=\u001b[0m\u001b[0mfvocab\u001b[0m\u001b[1;33m,\u001b[0m \u001b[0mbinary\u001b[0m\u001b[1;33m=\u001b[0m\u001b[0mbinary\u001b[0m\u001b[1;33m,\u001b[0m \u001b[0mencoding\u001b[0m\u001b[1;33m=\u001b[0m\u001b[0mencoding\u001b[0m\u001b[1;33m,\u001b[0m \u001b[0municode_errors\u001b[0m\u001b[1;33m=\u001b[0m\u001b[0municode_errors\u001b[0m\u001b[1;33m,\u001b[0m\u001b[1;33m\u001b[0m\u001b[0m\n\u001b[0;32m-> 1498\u001b[0;31m             limit=limit, datatype=datatype)\n\u001b[0m\u001b[1;32m   1499\u001b[0m \u001b[1;33m\u001b[0m\u001b[0m\n\u001b[1;32m   1500\u001b[0m     \u001b[1;32mdef\u001b[0m \u001b[0mget_keras_embedding\u001b[0m\u001b[1;33m(\u001b[0m\u001b[0mself\u001b[0m\u001b[1;33m,\u001b[0m \u001b[0mtrain_embeddings\u001b[0m\u001b[1;33m=\u001b[0m\u001b[1;32mFalse\u001b[0m\u001b[1;33m)\u001b[0m\u001b[1;33m:\u001b[0m\u001b[1;33m\u001b[0m\u001b[0m\n",
      "\u001b[0;32mC:\\Anaconda3\\lib\\site-packages\\gensim\\models\\utils_any2vec.py\u001b[0m in \u001b[0;36m_load_word2vec_format\u001b[0;34m(cls, fname, fvocab, binary, encoding, unicode_errors, limit, datatype)\u001b[0m\n\u001b[1;32m    380\u001b[0m                     \u001b[1;32mif\u001b[0m \u001b[0mch\u001b[0m \u001b[1;33m!=\u001b[0m \u001b[1;34mb'\\n'\u001b[0m\u001b[1;33m:\u001b[0m  \u001b[1;31m# ignore newlines in front of words (some binary files have)\u001b[0m\u001b[1;33m\u001b[0m\u001b[0m\n\u001b[1;32m    381\u001b[0m                         \u001b[0mword\u001b[0m\u001b[1;33m.\u001b[0m\u001b[0mappend\u001b[0m\u001b[1;33m(\u001b[0m\u001b[0mch\u001b[0m\u001b[1;33m)\u001b[0m\u001b[1;33m\u001b[0m\u001b[0m\n\u001b[0;32m--> 382\u001b[0;31m                 \u001b[0mword\u001b[0m \u001b[1;33m=\u001b[0m \u001b[0mutils\u001b[0m\u001b[1;33m.\u001b[0m\u001b[0mto_unicode\u001b[0m\u001b[1;33m(\u001b[0m\u001b[1;34mb''\u001b[0m\u001b[1;33m.\u001b[0m\u001b[0mjoin\u001b[0m\u001b[1;33m(\u001b[0m\u001b[0mword\u001b[0m\u001b[1;33m)\u001b[0m\u001b[1;33m,\u001b[0m \u001b[0mencoding\u001b[0m\u001b[1;33m=\u001b[0m\u001b[0mencoding\u001b[0m\u001b[1;33m,\u001b[0m \u001b[0merrors\u001b[0m\u001b[1;33m=\u001b[0m\u001b[0municode_errors\u001b[0m\u001b[1;33m)\u001b[0m\u001b[1;33m\u001b[0m\u001b[0m\n\u001b[0m\u001b[1;32m    383\u001b[0m                 \u001b[1;32mwith\u001b[0m \u001b[0mutils\u001b[0m\u001b[1;33m.\u001b[0m\u001b[0mignore_deprecation_warning\u001b[0m\u001b[1;33m(\u001b[0m\u001b[1;33m)\u001b[0m\u001b[1;33m:\u001b[0m\u001b[1;33m\u001b[0m\u001b[0m\n\u001b[1;32m    384\u001b[0m                     \u001b[1;31m# TODO use frombuffer or something similar\u001b[0m\u001b[1;33m\u001b[0m\u001b[1;33m\u001b[0m\u001b[0m\n",
      "\u001b[0;32mC:\\Anaconda3\\lib\\site-packages\\gensim\\utils.py\u001b[0m in \u001b[0;36many2unicode\u001b[0;34m(text, encoding, errors)\u001b[0m\n\u001b[1;32m    357\u001b[0m     \u001b[1;32mif\u001b[0m \u001b[0misinstance\u001b[0m\u001b[1;33m(\u001b[0m\u001b[0mtext\u001b[0m\u001b[1;33m,\u001b[0m \u001b[0municode\u001b[0m\u001b[1;33m)\u001b[0m\u001b[1;33m:\u001b[0m\u001b[1;33m\u001b[0m\u001b[0m\n\u001b[1;32m    358\u001b[0m         \u001b[1;32mreturn\u001b[0m \u001b[0mtext\u001b[0m\u001b[1;33m\u001b[0m\u001b[0m\n\u001b[0;32m--> 359\u001b[0;31m     \u001b[1;32mreturn\u001b[0m \u001b[0municode\u001b[0m\u001b[1;33m(\u001b[0m\u001b[0mtext\u001b[0m\u001b[1;33m,\u001b[0m \u001b[0mencoding\u001b[0m\u001b[1;33m,\u001b[0m \u001b[0merrors\u001b[0m\u001b[1;33m=\u001b[0m\u001b[0merrors\u001b[0m\u001b[1;33m)\u001b[0m\u001b[1;33m\u001b[0m\u001b[0m\n\u001b[0m\u001b[1;32m    360\u001b[0m \u001b[1;33m\u001b[0m\u001b[0m\n\u001b[1;32m    361\u001b[0m \u001b[1;33m\u001b[0m\u001b[0m\n",
      "\u001b[0;31mUnicodeDecodeError\u001b[0m: 'utf-8' codec can't decode byte 0xbb in position 0: invalid start byte"
     ]
    }
   ],
   "source": [
    "# 加载模型\n",
    "model2 = gensim.models.KeyedVectors.load_word2vec_format(model_file_path2,binary=True)\n",
    "print(model2)\n",
    "\n",
    "# 应用模型\n",
    "v1 = model2.get_vector(\"提\")\n",
    "print(v1.shape)\n",
    "print(v1)"
   ]
  },
  {
   "cell_type": "markdown",
   "metadata": {
    "collapsed": true
   },
   "source": [
    "### 方式三：\n",
    "直接使用NumPy API保存词向量信息"
   ]
  },
  {
   "cell_type": "markdown",
   "metadata": {},
   "source": [
    "#### 持久化"
   ]
  },
  {
   "cell_type": "code",
   "execution_count": null,
   "metadata": {
    "collapsed": false
   },
   "outputs": [],
   "source": [
    "# 获取词向量\n",
    "norm_word_embeddings = model.wv.vectors_norm # 经过L2转换后的词向量映射矩阵\n",
    "word_embeddings = model.wv.vectors # 原始词向量映射矩阵\n",
    "# 获取词典(词典到idx的映射)\n",
    "vocab_2_index = list(map(lambda k: (k, model.wv.vocab[k].index), model.wv.vocab))\n",
    "print(np.shape(norm_word_embeddings), np.shape(word_embeddings), np.shape(vocab_2_index))\n",
    "# 数据保存\n",
    "np.save(model_file_path3.format(\"norm_embedding\"), norm_word_embeddings)\n",
    "np.save(model_file_path3.format(\"embedding\"), word_embeddings)\n",
    "np.save(model_file_path3.format(\"vocab_2_index\"), vocab_2_index)"
   ]
  },
  {
   "cell_type": "markdown",
   "metadata": {},
   "source": [
    "#### 加载"
   ]
  },
  {
   "cell_type": "code",
   "execution_count": null,
   "metadata": {
    "collapsed": false
   },
   "outputs": [],
   "source": [
    "# 加载数据\n",
    "norm_word_embeddings = np.load(model_file_path3.format(\"norm_embedding\"))\n",
    "word_embeddings = np.load(model_file_path3.format(\"embedding\"))\n",
    "vocab_2_index = np.load(model_file_path3.format(\"vocab_2_index\"))\n",
    "\n",
    "# 字典转换\n",
    "vocab_2_index = dict(map(lambda t:(t[0], int(t[1])), vocab_2_index))\n",
    "\n",
    "# 获取数据\n",
    "word = \"提\"\n",
    "index = vocab_2_index[word]\n",
    "v1 = word_embeddings[index]\n",
    "print(v1.shape)\n",
    "print(v1)"
   ]
  },
  {
   "cell_type": "markdown",
   "metadata": {
    "collapsed": true
   },
   "source": [
    " "
   ]
  },
  {
   "cell_type": "markdown",
   "metadata": {},
   "source": [
    " "
   ]
  },
  {
   "cell_type": "markdown",
   "metadata": {
    "collapsed": true
   },
   "source": [
    "## 五、效果可视化"
   ]
  },
  {
   "cell_type": "code",
   "execution_count": null,
   "metadata": {
    "collapsed": true
   },
   "outputs": [],
   "source": [
    "from sklearn.manifold import TSNE\n",
    "import matplotlib as mpl\n",
    "import matplotlib.pyplot as plt\n",
    "\n",
    "# 解决中文显示问题\n",
    "mpl.rcParams['font.sans-serif'] = [u'SimHei']\n",
    "mpl.rcParams['axes.unicode_minus'] = False"
   ]
  },
  {
   "cell_type": "code",
   "execution_count": null,
   "metadata": {
    "collapsed": true
   },
   "outputs": [],
   "source": [
    "%matplotlib tk\n",
    "# %matplotlib inline"
   ]
  },
  {
   "cell_type": "code",
   "execution_count": null,
   "metadata": {
    "collapsed": true
   },
   "outputs": [],
   "source": [
    "# 获取词向量\n",
    "word_embeddings = model.wv.vectors # 原始词向量映射矩阵\n",
    "# 获取词典(词典到idx的映射)\n",
    "index_2_vocab = dict(list(map(lambda k: (model.wv.vocab[k].index, k), model.wv.vocab)))"
   ]
  },
  {
   "cell_type": "code",
   "execution_count": null,
   "metadata": {
    "collapsed": true
   },
   "outputs": [],
   "source": [
    "viz_words = 500\n",
    "tsne = TSNE() # 将高维数据映射到低维空间上，主要目的是为了可视化\n",
    "embed_tsne = tsne.fit_transform(word_embeddings[:viz_words, :])"
   ]
  },
  {
   "cell_type": "code",
   "execution_count": null,
   "metadata": {
    "collapsed": false
   },
   "outputs": [],
   "source": [
    "fig, ax = plt.subplots(figsize=(14, 14))\n",
    "for idx in range(viz_words):\n",
    "    plt.scatter(*embed_tsne[idx, :], color='steelblue')\n",
    "    plt.annotate(index_2_vocab[idx], (embed_tsne[idx, 0], embed_tsne[idx, 1]), alpha=0.7)\n",
    "plt.show()"
   ]
  },
  {
   "cell_type": "code",
   "execution_count": null,
   "metadata": {
    "collapsed": true
   },
   "outputs": [],
   "source": []
  },
  {
   "cell_type": "code",
   "execution_count": null,
   "metadata": {
    "collapsed": true
   },
   "outputs": [],
   "source": []
  }
 ],
 "metadata": {
  "kernelspec": {
   "display_name": "Python 3",
   "language": "python",
   "name": "python3"
  },
  "language_info": {
   "codemirror_mode": {
    "name": "ipython",
    "version": 3
   },
   "file_extension": ".py",
   "mimetype": "text/x-python",
   "name": "python",
   "nbconvert_exporter": "python",
   "pygments_lexer": "ipython3",
   "version": "3.6.2"
  }
 },
 "nbformat": 4,
 "nbformat_minor": 2
}
